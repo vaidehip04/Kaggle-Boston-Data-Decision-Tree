{
 "cells": [
  {
   "cell_type": "markdown",
   "metadata": {},
   "source": [
    "# Problem Set 1\n"
   ]
  },
  {
   "cell_type": "markdown",
   "metadata": {},
   "source": [
    "Importing libraries"
   ]
  },
  {
   "cell_type": "code",
   "execution_count": 1,
   "metadata": {},
   "outputs": [],
   "source": [
    "import pandas as pd\n",
    "import numpy as np\n",
    "import math\n",
    "from sklearn.datasets import load_boston\n",
    "from sklearn import tree\n",
    "import matplotlib.pyplot as plt\n",
    "import random\n",
    "from sklearn.metrics import accuracy_score\n",
    "from sklearn.metrics import precision_score\n",
    "from sklearn.metrics import recall_score\n",
    "from sklearn.metrics import f1_score\n",
    "from sklearn.ensemble import BaggingClassifier\n",
    "from sklearn.ensemble import RandomForestClassifier\n",
    "import warnings\n",
    "warnings.filterwarnings('ignore')"
   ]
  },
  {
   "cell_type": "markdown",
   "metadata": {},
   "source": [
    "## Part 1: Creating helper functions\n",
    "\n",
    "Q1. Create a helper function to calculate Gini impurity called \"calcGini\". This function should take in two values which represent a count of each class (we can assume only two classes for this problem set) and output the Gini impurity."
   ]
  },
  {
   "cell_type": "code",
   "execution_count": 2,
   "metadata": {},
   "outputs": [],
   "source": [
    "#Calculating Gini Impurity\n",
    "def calcGini(val1, val2):\n",
    "    if ((val1 == 0) and (val2 == 0)):\n",
    "        return 0\n",
    "    val1_prob=val1/(val1+val2)\n",
    "    val2_prob=val2/(val1+val2)\n",
    "    gini_impurity=1-((val1_prob**2)+(val2_prob**2))\n",
    "    return(gini_impurity)  "
   ]
  },
  {
   "cell_type": "markdown",
   "metadata": {},
   "source": [
    "Q2. Create a helper function to calculate Gini impurity called \"calcEntropy\". This function should take in two values which represent a count of each class (we can assume only two classes for this problem set) and output the entropy. (Note: be sure the function appropriately accounts for zero values)"
   ]
  },
  {
   "cell_type": "code",
   "execution_count": 3,
   "metadata": {},
   "outputs": [],
   "source": [
    "#Calculating Entropy\n",
    "def calcEntropy(val1, val2):\n",
    "    if ((val1 == 0) and (val2 == 0)):\n",
    "        return 0\n",
    "    val1_prob=val1/(val1+val2)\n",
    "    val2_prob=val2/(val1+val2)\n",
    "    if ((val1_prob==0) or (val2_prob==0.0)):\n",
    "        return 0\n",
    "    else:\n",
    "        entropy=-(val1_prob)*math.log2(val1_prob)-(val2_prob)*math.log2(val2_prob)\n",
    "        return(entropy)   "
   ]
  },
  {
   "cell_type": "markdown",
   "metadata": {},
   "source": [
    "Q3. Create a helper function to calculate weighted sums called \"weightedSum\". This function should take in two lists - one of values and one of weights/counts - and should output the weighted sum of the values as weighted by weights/counts."
   ]
  },
  {
   "cell_type": "code",
   "execution_count": 4,
   "metadata": {},
   "outputs": [],
   "source": [
    "#Caluclating weighted sums\n",
    "def weightedSum(values, weights):\n",
    "    weighted_sum=0\n",
    "    for i in range(len(values)):\n",
    "        weighted_sum=weighted_sum+values[i]*weights[i]\n",
    "    return(weighted_sum)"
   ]
  },
  {
   "cell_type": "markdown",
   "metadata": {},
   "source": [
    "Q4. Verify that your functions are working as expected. Use the same dataset/calculations from lecture and calculate the Gini impurity and entropy for each column. The data can be found in the toyData.csv file."
   ]
  },
  {
   "cell_type": "code",
   "execution_count": 5,
   "metadata": {},
   "outputs": [
    {
     "data": {
      "text/html": [
       "<div>\n",
       "<style scoped>\n",
       "    .dataframe tbody tr th:only-of-type {\n",
       "        vertical-align: middle;\n",
       "    }\n",
       "\n",
       "    .dataframe tbody tr th {\n",
       "        vertical-align: top;\n",
       "    }\n",
       "\n",
       "    .dataframe thead th {\n",
       "        text-align: right;\n",
       "    }\n",
       "</style>\n",
       "<table border=\"1\" class=\"dataframe\">\n",
       "  <thead>\n",
       "    <tr style=\"text-align: right;\">\n",
       "      <th></th>\n",
       "      <th>Variable A</th>\n",
       "      <th>Variable B</th>\n",
       "      <th>Variable C</th>\n",
       "      <th>Output</th>\n",
       "    </tr>\n",
       "  </thead>\n",
       "  <tbody>\n",
       "    <tr>\n",
       "      <td>0</td>\n",
       "      <td>Yes</td>\n",
       "      <td>On</td>\n",
       "      <td>High</td>\n",
       "      <td>Red</td>\n",
       "    </tr>\n",
       "    <tr>\n",
       "      <td>1</td>\n",
       "      <td>No</td>\n",
       "      <td>Off</td>\n",
       "      <td>Low</td>\n",
       "      <td>Blue</td>\n",
       "    </tr>\n",
       "    <tr>\n",
       "      <td>2</td>\n",
       "      <td>Yes</td>\n",
       "      <td>On</td>\n",
       "      <td>High</td>\n",
       "      <td>Red</td>\n",
       "    </tr>\n",
       "    <tr>\n",
       "      <td>3</td>\n",
       "      <td>Yes</td>\n",
       "      <td>Off</td>\n",
       "      <td>High</td>\n",
       "      <td>Red</td>\n",
       "    </tr>\n",
       "    <tr>\n",
       "      <td>4</td>\n",
       "      <td>No</td>\n",
       "      <td>On</td>\n",
       "      <td>High</td>\n",
       "      <td>Blue</td>\n",
       "    </tr>\n",
       "    <tr>\n",
       "      <td>5</td>\n",
       "      <td>Yes</td>\n",
       "      <td>On</td>\n",
       "      <td>Low</td>\n",
       "      <td>Blue</td>\n",
       "    </tr>\n",
       "    <tr>\n",
       "      <td>6</td>\n",
       "      <td>No</td>\n",
       "      <td>Off</td>\n",
       "      <td>High</td>\n",
       "      <td>Blue</td>\n",
       "    </tr>\n",
       "    <tr>\n",
       "      <td>7</td>\n",
       "      <td>No</td>\n",
       "      <td>On</td>\n",
       "      <td>High</td>\n",
       "      <td>Blue</td>\n",
       "    </tr>\n",
       "    <tr>\n",
       "      <td>8</td>\n",
       "      <td>Yes</td>\n",
       "      <td>On</td>\n",
       "      <td>Low</td>\n",
       "      <td>Blue</td>\n",
       "    </tr>\n",
       "    <tr>\n",
       "      <td>9</td>\n",
       "      <td>Yes</td>\n",
       "      <td>Off</td>\n",
       "      <td>High</td>\n",
       "      <td>Red</td>\n",
       "    </tr>\n",
       "  </tbody>\n",
       "</table>\n",
       "</div>"
      ],
      "text/plain": [
       "  Variable A Variable B Variable C Output\n",
       "0        Yes         On       High    Red\n",
       "1         No        Off        Low   Blue\n",
       "2        Yes         On       High    Red\n",
       "3        Yes        Off       High    Red\n",
       "4         No         On       High   Blue\n",
       "5        Yes         On        Low   Blue\n",
       "6         No        Off       High   Blue\n",
       "7         No         On       High   Blue\n",
       "8        Yes         On        Low   Blue\n",
       "9        Yes        Off       High    Red"
      ]
     },
     "execution_count": 5,
     "metadata": {},
     "output_type": "execute_result"
    }
   ],
   "source": [
    "#Loading the toy data\n",
    "toy_data_df=pd.read_csv(\"toyData.csv\")\n",
    "toy_data_df"
   ]
  },
  {
   "cell_type": "code",
   "execution_count": 6,
   "metadata": {},
   "outputs": [
    {
     "data": {
      "text/html": [
       "<div>\n",
       "<style scoped>\n",
       "    .dataframe tbody tr th:only-of-type {\n",
       "        vertical-align: middle;\n",
       "    }\n",
       "\n",
       "    .dataframe tbody tr th {\n",
       "        vertical-align: top;\n",
       "    }\n",
       "\n",
       "    .dataframe thead th {\n",
       "        text-align: right;\n",
       "    }\n",
       "</style>\n",
       "<table border=\"1\" class=\"dataframe\">\n",
       "  <thead>\n",
       "    <tr style=\"text-align: right;\">\n",
       "      <th></th>\n",
       "      <th>Variable A</th>\n",
       "      <th>Variable B</th>\n",
       "      <th>Variable C</th>\n",
       "      <th>Output</th>\n",
       "    </tr>\n",
       "  </thead>\n",
       "  <tbody>\n",
       "    <tr>\n",
       "      <td>count</td>\n",
       "      <td>10</td>\n",
       "      <td>10</td>\n",
       "      <td>10</td>\n",
       "      <td>10</td>\n",
       "    </tr>\n",
       "    <tr>\n",
       "      <td>unique</td>\n",
       "      <td>2</td>\n",
       "      <td>2</td>\n",
       "      <td>2</td>\n",
       "      <td>2</td>\n",
       "    </tr>\n",
       "    <tr>\n",
       "      <td>top</td>\n",
       "      <td>Yes</td>\n",
       "      <td>On</td>\n",
       "      <td>High</td>\n",
       "      <td>Blue</td>\n",
       "    </tr>\n",
       "    <tr>\n",
       "      <td>freq</td>\n",
       "      <td>6</td>\n",
       "      <td>6</td>\n",
       "      <td>7</td>\n",
       "      <td>6</td>\n",
       "    </tr>\n",
       "  </tbody>\n",
       "</table>\n",
       "</div>"
      ],
      "text/plain": [
       "       Variable A Variable B Variable C Output\n",
       "count          10         10         10     10\n",
       "unique          2          2          2      2\n",
       "top           Yes         On       High   Blue\n",
       "freq            6          6          7      6"
      ]
     },
     "execution_count": 6,
     "metadata": {},
     "output_type": "execute_result"
    }
   ],
   "source": [
    "#Checking the distribution of values of each variable\n",
    "toy_data_df.describe()"
   ]
  },
  {
   "cell_type": "markdown",
   "metadata": {},
   "source": [
    "###### Calculating the Gini Impurity, Entropy and Information Gain for all the 3 variables in the toy data.\n"
   ]
  },
  {
   "cell_type": "code",
   "execution_count": 7,
   "metadata": {},
   "outputs": [
    {
     "name": "stdout",
     "output_type": "stream",
     "text": [
      "\n",
      "The Gini Impurity for variable  Variable A is 0.27\n",
      "The Entropy for variable  Variable A is 0.55\n",
      "Information Gain for variable Variable A is 0.42\n",
      "\n",
      "The Gini Impurity for variable  Variable B is 0.47\n",
      "The Entropy for variable  Variable B is 0.95\n",
      "Information Gain for variable Variable B is 0.02\n",
      "\n",
      "The Gini Impurity for variable  Variable C is 0.34\n",
      "The Entropy for variable  Variable C is 0.69\n",
      "Information Gain for variable Variable C is 0.28\n"
     ]
    }
   ],
   "source": [
    "#Getting the input columns(features) from toy data\n",
    "x_cols  = toy_data_df.columns[:3]\n",
    "\n",
    "# Calculating the Number of Red and Blue outputs in the toy data \n",
    "red_output= len(toy_data_df[toy_data_df['Output'] =='Red'])\n",
    "blues_output = len(toy_data_df[toy_data_df['Output'] =='Blue'])\n",
    "\n",
    "#Calculating the entropy of the toy_data\n",
    "entropy_tree = calcEntropy(red_output,blues_output)\n",
    "\n",
    "#Iterating through all the variables\n",
    "for col in x_cols:\n",
    "    current = toy_data_df[col]\n",
    "    gini_vals = []\n",
    "    entropy_vals = []\n",
    "    weights_vals = []\n",
    "    uniqueVals = current.unique()\n",
    "    \n",
    "    #Iterating over each unique value of the variables\n",
    "    for val in uniqueVals:\n",
    "        current_df = toy_data_df[toy_data_df[col] == val]\n",
    "        reds = len(current_df[current_df['Output'] =='Red'])\n",
    "        blues = len(current_df[current_df['Output'] =='Blue'])\n",
    "        gini_vals.append(calcGini(reds, blues))\n",
    "        entropy_vals.append(calcEntropy(reds, blues))\n",
    "        weights_vals.append(len(current_df)/len(toy_data_df))\n",
    "    \n",
    "    #Calculating the Gini Impurity and Entropy for each variable\n",
    "    gini_val  = weightedSum(gini_vals,weights_vals)\n",
    "    entropy_val  = weightedSum(entropy_vals,weights_vals)\n",
    "    \n",
    "    print(\"\\nThe Gini Impurity for variable \", col, \"is\", round(gini_val,2))\n",
    "    print(\"The Entropy for variable \", col, \"is\", round(entropy_val,2))\n",
    "    print(\"Information Gain for variable\", col, \"is\", round(entropy_tree - entropy_val,2))"
   ]
  },
  {
   "cell_type": "markdown",
   "metadata": {},
   "source": [
    "## Part 2: Building trees"
   ]
  },
  {
   "cell_type": "markdown",
   "metadata": {},
   "source": [
    "Q5. Import the Boston using dataset using sklearn.datasets. Create a new column called \"highPriced\" that is a boolean indicator of whether the target value in the dataset (i.e.MEDV or median home value) is greater than $35K. The variable \"highPriced\" will be our response/output variable going forward. What are some interesting features of this variable?"
   ]
  },
  {
   "cell_type": "markdown",
   "metadata": {},
   "source": [
    "###### Response: \n",
    "\n",
    "*We get following observation about our output variable ***highPriced*** :*\n",
    "\n",
    "For the output variable highPriced, the total number of observations for highPriced (class:1) is **48** and the total number of observations for not highPriced (class:0) is **458**. From the unique values count distribution of our output variable highPriced, we can see that the total number of observations for not highPriced i.e **\"0\"** class is very much greater than the total number of observations for highPriced i.e **\"1\"** class. \n",
    "\n",
    "Thus, we can say that our output variable \"highPriced\" is class imbalanced in nature due to large difference in its binary output occurences."
   ]
  },
  {
   "cell_type": "code",
   "execution_count": 8,
   "metadata": {},
   "outputs": [
    {
     "name": "stdout",
     "output_type": "stream",
     "text": [
      "Distribution of highPriced unique values:\n"
     ]
    },
    {
     "data": {
      "text/plain": [
       "0    458\n",
       "1     48\n",
       "Name: highPriced, dtype: int64"
      ]
     },
     "execution_count": 8,
     "metadata": {},
     "output_type": "execute_result"
    }
   ],
   "source": [
    "#Loading the boston data\n",
    "boston_data = load_boston()\n",
    "boston_df=pd.DataFrame(boston_data.data)\n",
    "\n",
    "#Getting the features and target from the bostone data\n",
    "boston_df.columns = boston_data.feature_names\n",
    "boston_target=pd.DataFrame(boston_data.target)\n",
    "boston_target.columns=[\"MEDV\"]\n",
    "\n",
    "#Creating a new variable highPriced\n",
    "boston_df['highPriced'] = np.where(boston_target['MEDV'] > 35, 1, 0)\n",
    "\n",
    "#Getting the Count of highPriced Yes and No\n",
    "print(\"Distribution of highPriced unique values:\")\n",
    "boston_df.highPriced.value_counts()"
   ]
  },
  {
   "cell_type": "markdown",
   "metadata": {},
   "source": [
    "Q6.Using your helper functions and with highPriced as your output, find what the best split is along the AGE variable using each of Gini impurity and entropy as the splitting criterion. (Hint: it may help to build this process as a function because you will be doing it many times throughout this problem set.) Assume the \\left\" side of each split contains all values less than and the \"right\" side contains all values equal to or greater than. What is the optimal split point when using Gini impurity. What about when using entropy? What if we calculate the same using the CRIM variable? Comment on any similarities and\n",
    "differences."
   ]
  },
  {
   "cell_type": "markdown",
   "metadata": {},
   "source": [
    "##### Response: \n",
    "\n",
    "*We get the following observations about the opimal split for both the variables \"Age\" and \"CRIM\":*\n",
    "\n",
    "1) For the input variable **\"AGE\"**, we can see that the optimal split value is **37.25** and that it is same using the both criteria  - Gini Impurity and Entropy.\n",
    "\n",
    "2) For the input variable **\"CRIM\"**, we can see that the optimal split value is **0.022** using the Gini Impurity criteria and **9.281** using the entropy as the criteria. Thus, there is a difference in the optimal split value for the \"CRIM\" variable using Gini Impurity and Entropy as each criteria gives its minimum impurity value for different values of the \"CRIM\" variable."
   ]
  },
  {
   "cell_type": "code",
   "execution_count": 9,
   "metadata": {},
   "outputs": [],
   "source": [
    "#Function to calculate the Gini Impurity and Entropy of each column and also get the best split col and its threshold\n",
    "def get_best_split_value(X, y):\n",
    "    \n",
    "    x_cols  = X.columns\n",
    "    dataset = pd.concat([X,y], axis=1)\n",
    "    \n",
    "    #Creating empty dictionaries to store the threshold value and Entropy values of the columns\n",
    "    col_entropy_split_val_dict = {}\n",
    "    col_entropy_dict = {}\n",
    "    \n",
    "    #Creating empty dictionaries to store the threshold value and Gini Impurity values of the columns\n",
    "    col_gini_imp_split_val_dict = {}\n",
    "    col_gini_imp_dict = {}\n",
    "    \n",
    "    #Calculating the mean value for each adjacent pair of values for a variable\n",
    "    for col in x_cols:\n",
    "        mean_vals =[]\n",
    "        sorted_vals = sorted(dataset[col])\n",
    "        for i in range(0,len(sorted_vals)-1):\n",
    "            mean_vals.append((sorted_vals[i]+sorted_vals[i+1])/2)\n",
    "            unique_vals = list(set(mean_vals))            \n",
    "\n",
    "        gini_imp_split_val = 0\n",
    "        entropy_split_val = 0\n",
    "        min_gini_imp = math.inf\n",
    "        min_entropy = math.inf\n",
    "        \n",
    "        #Iterating through each unique mean value for each input columns \n",
    "        #and calculating the entropy and gini impurity for each class of the output variable\n",
    "        for val in unique_vals:\n",
    "            gini_imp_vals  = []\n",
    "            entropy_vals = []\n",
    "            weight_vals =[]\n",
    "            \n",
    "            current_less_df = dataset[dataset[col]  < val]\n",
    "            current_greater_df = dataset[dataset[col]  >= val]\n",
    "            \n",
    "            yes_vals = len(current_less_df[current_less_df['highPriced'] ==1])\n",
    "            no_vals = len(current_less_df[current_less_df['highPriced'] ==0])\n",
    "            gini_imp_vals.append(calcGini(yes_vals, no_vals))\n",
    "            entropy_vals.append(calcEntropy(yes_vals, no_vals))\n",
    "            weight_vals.append(len(current_less_df)/len(dataset)) \n",
    "            \n",
    "            yes_vals = len(current_greater_df[current_greater_df['highPriced'] ==1])\n",
    "            no_vals = len(current_greater_df[current_greater_df['highPriced'] ==0])\n",
    "            gini_imp_vals.append(calcGini(yes_vals, no_vals))\n",
    "            entropy_vals.append(calcEntropy(yes_vals, no_vals))\n",
    "            weight_vals.append(len(current_greater_df)/len(dataset)) \n",
    "            \n",
    "            #Calculating weighted Gini Impurity\n",
    "            weighted_gini_imp_val = weightedSum(gini_imp_vals,weight_vals)\n",
    "            \n",
    "            #Storing the threshold value of the column having the minimum Gini Impurity\n",
    "            if weighted_gini_imp_val < min_gini_imp:\n",
    "                min_gini_imp = weighted_gini_imp_val\n",
    "                gini_imp_split_val = val\n",
    "            \n",
    "            #Calculating the weighted Entropy \n",
    "            weighted_entropy_val = weightedSum(entropy_vals,weight_vals)\n",
    "            \n",
    "            #Storing the threshold value of the column having the minimum Entropy\n",
    "            if weighted_entropy_val < min_entropy:\n",
    "                min_entropy = weighted_entropy_val\n",
    "                entropy_split_val = val\n",
    "         \n",
    "        #Storing the Minimum Entropy and the best split value for each column\n",
    "        col_entropy_dict[col] = min_entropy\n",
    "        col_entropy_split_val_dict[col] = entropy_split_val\n",
    "        \n",
    "        #Storing the Minimum Gini Impurit and the best split value for each column\n",
    "        col_gini_imp_dict[col] = min_gini_imp\n",
    "        col_gini_imp_split_val_dict[col] = gini_imp_split_val\n",
    "        \n",
    "        \n",
    "        if len(x_cols) == 1:\n",
    "            print(\"\\nThe best split value using the Gini Impurity criterion for the\", col,\"variable is\" , round(gini_imp_split_val,3))\n",
    "            print(\"The best split value using the Entropy criterion for the\", col,\"variable is\" , round(entropy_split_val,3))\n",
    "        \n",
    "    #Getting the minimum Entropy among all the columns          \n",
    "    minimum_entropy = min(col_entropy_dict.values())\n",
    "    \n",
    "    #Choosing the column having the least Entropy\n",
    "    cols_with_min_entropy = [key for key in col_entropy_dict if col_entropy_dict[key] == minimum_entropy] \n",
    "    \n",
    "    #Getting the minimum Gini Impurity among all the columns          \n",
    "    minimum_gini_imp = min(col_gini_imp_dict.values())\n",
    "    \n",
    "    #Choosing the column having the least Gini Impurity\n",
    "    cols_with_min_gini_imp = [key for key in col_gini_imp_dict if col_gini_imp_dict[key] == minimum_gini_imp]       \n",
    "    \n",
    "    #Returning a dictionary containing the best split value(threshold) and its column name \n",
    "    #using the Gini Impurity and Entropy as the criteria\n",
    "    best_split_entropy_cols = {}\n",
    "    best_split_gini_imp_cols = {}\n",
    "    \n",
    "    for best_col in cols_with_min_entropy:\n",
    "        best_split_entropy_cols[best_col] = col_entropy_split_val_dict[best_col]\n",
    "    for best_col in cols_with_min_gini_imp:\n",
    "        best_split_gini_imp_cols[best_col] = col_gini_imp_split_val_dict[best_col]\n",
    "    return [best_split_entropy_cols , best_split_gini_imp_cols] "
   ]
  },
  {
   "cell_type": "markdown",
   "metadata": {},
   "source": [
    "###### Getting the Best split value using Gini Impurity and Entropy criteria for different Boston columns"
   ]
  },
  {
   "cell_type": "code",
   "execution_count": 10,
   "metadata": {},
   "outputs": [
    {
     "name": "stdout",
     "output_type": "stream",
     "text": [
      "\n",
      "The best split value using the Gini Impurity criterion for the AGE variable is 37.25\n",
      "The best split value using the Entropy criterion for the AGE variable is 37.25\n"
     ]
    }
   ],
   "source": [
    "X_age = pd.DataFrame(boston_df['AGE'])\n",
    "y_age = pd.DataFrame(boston_df['highPriced'])\n",
    "\n",
    "#Getting the Gini Impurity and Entropy for column age\n",
    "res = get_best_split_value(X_age, y_age)"
   ]
  },
  {
   "cell_type": "code",
   "execution_count": 11,
   "metadata": {},
   "outputs": [
    {
     "name": "stdout",
     "output_type": "stream",
     "text": [
      "\n",
      "The best split value using the Gini Impurity criterion for the CRIM variable is 0.022\n",
      "The best split value using the Entropy criterion for the CRIM variable is 9.281\n"
     ]
    }
   ],
   "source": [
    "X_crim= pd.DataFrame(boston_df['CRIM'])\n",
    "y_crim= pd.DataFrame(boston_df['highPriced'])\n",
    "\n",
    "#Getting the Gini Impurity and Entropy for column CRIM\n",
    "res = get_best_split_value(X_crim, y_crim)"
   ]
  },
  {
   "cell_type": "markdown",
   "metadata": {},
   "source": [
    "Q7. Import sklearn's DecisionTreeClassiffer and find what the optimal split is along the AGE variable using entropy. Show that the optimal value as calculated by sklearn's classiffer is 37.25. If this is different than what you calculated, explain why and adjust your outputs so it gives you the same value. (Hint: you may have implemented a splitting method that looked at axis-aligned splits at every data point whereas sklearn looks at axis-aligned splits between every pair of data points.)"
   ]
  },
  {
   "cell_type": "markdown",
   "metadata": {},
   "source": [
    "###### Response: \n",
    "\n",
    "*We get the following observation about optimal split along **AGE** variable:*\n",
    "\n",
    "1.) The optimal split value for variable **\"Age\"** is **37.25** using the sklearn's DecisionTreeclassifier.\n",
    "\n",
    "2.) The calculated optimal split value from our method created to get the best split and that from the sklearn's DecisionTreeclassifier is same**(37.25)**\n",
    "\n",
    "3.) It is same, as the approach used to calculate the optimal split value in our written function is similar to the inbuilt DecisionTreeClassifier, where we look at the unique mean values of the adjacent pair of data points and then calculate the best split value considering these unique values."
   ]
  },
  {
   "cell_type": "code",
   "execution_count": 12,
   "metadata": {},
   "outputs": [
    {
     "name": "stdout",
     "output_type": "stream",
     "text": [
      "The best split value for the variable 'AGE' using sklearn's DecisionTreeClassiffer is 37.25\n"
     ]
    }
   ],
   "source": [
    "#Getting X and y\n",
    "x_age=np.array(boston_df.AGE)\n",
    "x_age=x_age.reshape(-1,1)\n",
    "y=np.array(boston_df.highPriced)\n",
    "\n",
    "#Using inbuilt decision tree\n",
    "clf = tree.DecisionTreeClassifier(criterion=\"entropy\")\n",
    "model = clf.fit(x_age,y)\n",
    "print(\"The best split value for the variable 'AGE' using sklearn's DecisionTreeClassiffer is\",model.tree_.threshold[0])"
   ]
  },
  {
   "cell_type": "markdown",
   "metadata": {},
   "source": [
    "Q8. Using the RM, LSTAT, and RAD variables, build a a decision tree with 2 levels (3 split points, 4 leaf nodes) based on entropy. Show the splits as a pandas DataFrame with the following columns: level (indicates which level of the tree the split occurs. You should have a 1 once and 2 twice), col (indicates the column across which the split occurs), and threshold (indicates the threshold used in the split)."
   ]
  },
  {
   "cell_type": "code",
   "execution_count": 13,
   "metadata": {},
   "outputs": [],
   "source": [
    "#Storing input and output variables\n",
    "X_data = boston_df.filter(['RM','LSTAT','RAD'], axis=1)\n",
    "y_data= pd.DataFrame(boston_df['highPriced'])"
   ]
  },
  {
   "cell_type": "code",
   "execution_count": 14,
   "metadata": {},
   "outputs": [],
   "source": [
    "#Creating two global variables to store the decision tree and rules of the decision tree\n",
    "dec_tree_df = pd.DataFrame(columns=['level', 'col', 'threshold'])\n",
    "dec_tree_rules_df = pd.DataFrame()"
   ]
  },
  {
   "cell_type": "markdown",
   "metadata": {},
   "source": [
    "###### Defining multiple functions for creating the decision tree"
   ]
  },
  {
   "cell_type": "code",
   "execution_count": 15,
   "metadata": {},
   "outputs": [],
   "source": [
    "#Helper function to get the left and right sub stree and number of Yes and No in both the sub trees\n",
    "def get_split_data(dataframe, colname, threshold_value, get_Rules):\n",
    "    \n",
    "    #Creating left and right sub strees\n",
    "    left_tree = dataframe[dataframe[colname] < threshold_value]\n",
    "    right_tree = dataframe[dataframe[colname] >= threshold_value]\n",
    "    \n",
    "    decision_tree_rules_df = pd.DataFrame()\n",
    "    \n",
    "    #If leaf nodes, getting the number of Yes and No of the both the sub trees\n",
    "    if get_Rules == True:\n",
    "        decision_tree_rules_df = pd.concat([decision_tree_rules_df,pd.DataFrame(left_tree.highPriced.value_counts()).transpose()], axis =0)\n",
    "        decision_tree_rules_df = pd.concat([decision_tree_rules_df , pd.DataFrame(right_tree.highPriced.value_counts()).transpose()], axis =0)\n",
    "    \n",
    "    return left_tree,right_tree, decision_tree_rules_df "
   ]
  },
  {
   "cell_type": "code",
   "execution_count": 16,
   "metadata": {},
   "outputs": [],
   "source": [
    "#Recursive function to get the best split column and its threshold for each level\n",
    "def create_decision_tree(left, right, X_cols , y_col, depth,level):\n",
    "    \n",
    "    global dec_tree_rules_df\n",
    "    global dec_tree_df\n",
    "    \n",
    "    #Building the left tree\n",
    "    if (left.empty == False):  \n",
    "        X_left = left.filter(X_cols, axis=1)\n",
    "        y_left= left.filter(y_col,axis =1)\n",
    "        #Getting the best split col and its threshold value based on entropy criteria\n",
    "        res_left = get_best_split_value(X_left, y_left)[0] \n",
    "    \n",
    "        #Storing the level and the best column and its value for splitting\n",
    "        row_df = pd.Series([level, list(res_left.keys())[0], list(res_left.values())[0]], index=dec_tree_df.columns)\n",
    "        dec_tree_df = dec_tree_df.append(row_df, ignore_index=True)\n",
    "        \n",
    "        #Getting the left and right sub stree depending on the best split criteria\n",
    "        left_left_tree, left_right_tree, rules_left_df = get_split_data(left , list(res_left.keys())[0] , list(res_left.values())[0], (depth-1) == 0)    \n",
    "        dec_tree_rules_df = pd.concat([dec_tree_rules_df, rules_left_df], axis = 0)\n",
    "        \n",
    "        #Base condition for the function\n",
    "        if(depth-1) != 0:\n",
    "            create_decision_tree(left_left_tree, left_right_tree, X_cols , y_col, depth-1, level+1)\n",
    "            \n",
    "    \n",
    "    #Building the right tree\n",
    "    if (right.empty == False):\n",
    "        X_right = right.filter(X_cols, axis=1)\n",
    "        y_right= right.filter(y_col,axis =1)\n",
    "        #Getting the best split col and its threshold value based on entropy criteria\n",
    "        res_right = get_best_split_value(X_right, y_right)[0]\n",
    "        \n",
    "        #Storing the level and the best column and its value for splitting\n",
    "        row_df = pd.Series([level, list(res_right.keys())[0], list(res_right.values())[0]], index=dec_tree_df.columns)\n",
    "        dec_tree_df = dec_tree_df.append(row_df, ignore_index=True)\n",
    "        \n",
    "        #Getting the left and right sub stree depending on the best split criteria\n",
    "        right_left_tree, right_right_tree, rules_right_df = get_split_data(right , list(res_right.keys())[0] , list(res_right.values())[0], (depth-1) == 0)    \n",
    "        dec_tree_rules_df = pd.concat([dec_tree_rules_df, rules_right_df], axis = 0)\n",
    "        \n",
    "        #Base condition for the function\n",
    "        if (depth-1) != 0:\n",
    "            create_decision_tree(right_left_tree, right_right_tree, X_cols , y_col, depth-1,level+1)"
   ]
  },
  {
   "cell_type": "code",
   "execution_count": 17,
   "metadata": {},
   "outputs": [],
   "source": [
    "#Main function for creating the decision tree\n",
    "def decision_tree(X,y, depth): \n",
    "    \n",
    "    global dec_tree_rules_df\n",
    "    global dec_tree_df\n",
    "    flush_data()   \n",
    "    #Initialising required variables\n",
    "    dataset = pd.concat([X,y], axis=1)\n",
    "    x_cols = X.columns\n",
    "    y_col = y\n",
    "    level = 1\n",
    "    decision_tree_rules_df = pd.DataFrame()\n",
    "    no_leaf_nodes = []\n",
    "    \n",
    "    #Geting all the Leaf Node Numbers\n",
    "    for leaf_node in range(2**(depth)):\n",
    "        no_leaf_nodes.append(leaf_node+1)\n",
    "     \n",
    "    #Calling the recursive helper function to create the decision tree\n",
    "    create_decision_tree(dataset,pd.DataFrame(),x_cols,y_col, depth, level)\n",
    "    \n",
    "    #Completing the decisiosn tree rules dataframe\n",
    "    dec_tree_rules_df[\"Leaf_Node\"] = no_leaf_nodes\n",
    "    #Storing the decision for each leaf node based on the count majority of the output for the leaf\n",
    "    dec_tree_rules_df[\"Decision_Node\"] = np.where(dec_tree_rules_df[1] > dec_tree_rules_df[0], 1, 0)\n",
    "    "
   ]
  },
  {
   "cell_type": "code",
   "execution_count": 18,
   "metadata": {},
   "outputs": [],
   "source": [
    "#Function to flushing the two dataframes used\n",
    "def flush_data():\n",
    "    global dec_tree_rules_df\n",
    "    global dec_tree_df\n",
    "    dec_tree_df = pd.DataFrame(columns=['level', 'col', 'threshold'])\n",
    "    dec_tree_rules_df = pd.DataFrame()"
   ]
  },
  {
   "cell_type": "markdown",
   "metadata": {},
   "source": [
    "###### Calling the decision tree function"
   ]
  },
  {
   "cell_type": "code",
   "execution_count": 19,
   "metadata": {},
   "outputs": [],
   "source": [
    "depth = 2\n",
    "decision_tree(X_data,y_data,depth)"
   ]
  },
  {
   "cell_type": "code",
   "execution_count": 20,
   "metadata": {},
   "outputs": [
    {
     "data": {
      "text/html": [
       "<div>\n",
       "<style scoped>\n",
       "    .dataframe tbody tr th:only-of-type {\n",
       "        vertical-align: middle;\n",
       "    }\n",
       "\n",
       "    .dataframe tbody tr th {\n",
       "        vertical-align: top;\n",
       "    }\n",
       "\n",
       "    .dataframe thead th {\n",
       "        text-align: right;\n",
       "    }\n",
       "</style>\n",
       "<table border=\"1\" class=\"dataframe\">\n",
       "  <thead>\n",
       "    <tr style=\"text-align: right;\">\n",
       "      <th></th>\n",
       "      <th>level</th>\n",
       "      <th>col</th>\n",
       "      <th>threshold</th>\n",
       "    </tr>\n",
       "  </thead>\n",
       "  <tbody>\n",
       "    <tr>\n",
       "      <td>0</td>\n",
       "      <td>1</td>\n",
       "      <td>RM</td>\n",
       "      <td>6.941</td>\n",
       "    </tr>\n",
       "    <tr>\n",
       "      <td>1</td>\n",
       "      <td>2</td>\n",
       "      <td>LSTAT</td>\n",
       "      <td>9.535</td>\n",
       "    </tr>\n",
       "    <tr>\n",
       "      <td>2</td>\n",
       "      <td>2</td>\n",
       "      <td>RM</td>\n",
       "      <td>7.437</td>\n",
       "    </tr>\n",
       "  </tbody>\n",
       "</table>\n",
       "</div>"
      ],
      "text/plain": [
       "  level    col  threshold\n",
       "0     1     RM      6.941\n",
       "1     2  LSTAT      9.535\n",
       "2     2     RM      7.437"
      ]
     },
     "execution_count": 20,
     "metadata": {},
     "output_type": "execute_result"
    }
   ],
   "source": [
    "dec_tree_df"
   ]
  },
  {
   "cell_type": "markdown",
   "metadata": {},
   "source": [
    "*The above table shows us the optimal split column and its value for the 2 levels of the decision tree.*"
   ]
  },
  {
   "cell_type": "code",
   "execution_count": 21,
   "metadata": {},
   "outputs": [
    {
     "data": {
      "text/html": [
       "<div>\n",
       "<style scoped>\n",
       "    .dataframe tbody tr th:only-of-type {\n",
       "        vertical-align: middle;\n",
       "    }\n",
       "\n",
       "    .dataframe tbody tr th {\n",
       "        vertical-align: top;\n",
       "    }\n",
       "\n",
       "    .dataframe thead th {\n",
       "        text-align: right;\n",
       "    }\n",
       "</style>\n",
       "<table border=\"1\" class=\"dataframe\">\n",
       "  <thead>\n",
       "    <tr style=\"text-align: right;\">\n",
       "      <th></th>\n",
       "      <th>0</th>\n",
       "      <th>1</th>\n",
       "      <th>Leaf_Node</th>\n",
       "      <th>Decision_Node</th>\n",
       "    </tr>\n",
       "  </thead>\n",
       "  <tbody>\n",
       "    <tr>\n",
       "      <td>highPriced</td>\n",
       "      <td>129</td>\n",
       "      <td>6.0</td>\n",
       "      <td>1</td>\n",
       "      <td>0</td>\n",
       "    </tr>\n",
       "    <tr>\n",
       "      <td>highPriced</td>\n",
       "      <td>295</td>\n",
       "      <td>NaN</td>\n",
       "      <td>2</td>\n",
       "      <td>0</td>\n",
       "    </tr>\n",
       "    <tr>\n",
       "      <td>highPriced</td>\n",
       "      <td>33</td>\n",
       "      <td>13.0</td>\n",
       "      <td>3</td>\n",
       "      <td>0</td>\n",
       "    </tr>\n",
       "    <tr>\n",
       "      <td>highPriced</td>\n",
       "      <td>1</td>\n",
       "      <td>29.0</td>\n",
       "      <td>4</td>\n",
       "      <td>1</td>\n",
       "    </tr>\n",
       "  </tbody>\n",
       "</table>\n",
       "</div>"
      ],
      "text/plain": [
       "              0     1  Leaf_Node  Decision_Node\n",
       "highPriced  129   6.0          1              0\n",
       "highPriced  295   NaN          2              0\n",
       "highPriced   33  13.0          3              0\n",
       "highPriced    1  29.0          4              1"
      ]
     },
     "execution_count": 21,
     "metadata": {},
     "output_type": "execute_result"
    }
   ],
   "source": [
    "dec_tree_rules_df"
   ]
  },
  {
   "cell_type": "markdown",
   "metadata": {},
   "source": [
    "*The above table shows us the Decision Node for each Leaf Node of the decision Tree*"
   ]
  },
  {
   "cell_type": "markdown",
   "metadata": {},
   "source": [
    "Q9. Visualize your splits on an X-Y plane. Set the x-axis to be RM and the y-axis to be LSTAT. Plot the target variable and use straight lines to indicate the axis-aligned splits for your 2-level decision tree. Make sure your visualization is understandable and comment on what you see."
   ]
  },
  {
   "cell_type": "markdown",
   "metadata": {},
   "source": [
    "###### Response: \n",
    "\n",
    "*We can get the following observations from the below graph:*\n",
    "\n",
    "1.) The below graph shows the decision boundaries for each level of the decision tree. \n",
    "\n",
    "2.) The **yellow** line depicts the root split which splits the data as greater than and less than the threshold **RM** value of **6.943**.\n",
    "\n",
    "3.) The **blue** and the **pink** lines shows the level 2 split where the data is split for variable LSTAT at value **9.54** and **RM** at value **9.45**\n",
    "\n",
    "4.) We can see that most observations having a value of **LSTAT** greater than its threshold value*(level 2 split)* and a value of **RM** greater than its threshold value*(level 2 split)* are **high priced** *(Red points)*. The most of the other observations lying within other boundaries are **not high priced** *(Green points)*. \n",
    "\n",
    "*This graph can be informative, while deciding the rules for the decision tree.*"
   ]
  },
  {
   "cell_type": "code",
   "execution_count": 22,
   "metadata": {},
   "outputs": [
    {
     "data": {
      "image/png": "[encoded data removed]",
      "text/plain": [
       "<Figure size 864x576 with 1 Axes>"
      ]
     },
     "metadata": {
      "needs_background": "light"
     },
     "output_type": "display_data"
    }
   ],
   "source": [
    "#Visisualization\n",
    "high_Priced_df = boston_df[boston_df.highPriced == 1]\n",
    "not_highPriced_df = boston_df[boston_df.highPriced == 0]\n",
    "fig=plt.gcf()\n",
    "fig.set_size_inches(12,8)\n",
    "\n",
    "#Plotting highPriced target variable \n",
    "plt.scatter(high_Priced_df['RM'], high_Priced_df['LSTAT'], c='r', edgecolor='k',s=100, label =\"High Priced\")\n",
    "plt.scatter(not_highPriced_df['RM'], not_highPriced_df['LSTAT'], c='g', edgecolor='k', s=100,label =\"Not High Priced\")\n",
    "plt.xlabel('RM')\n",
    "plt.ylabel('LSTAT')\n",
    "plt.title(\"RM vs LSTAT\")\n",
    "\n",
    "#Plotting the decision boundary lines\n",
    "split_val1 = round(dec_tree_df.iloc[0][2],2)\n",
    "line1_label = \"RM:\" + str(split_val1) + \" (1st Split)\"\n",
    "split_val2  = round(dec_tree_df.iloc[1][2],2)\n",
    "line2_label = \"LSTAT:\" + str(split_val2) + \" (2nd Split)\"\n",
    "split_val3  =round(dec_tree_df.iloc[2][2],2)\n",
    "line3_label = \"LSTAT:\" + str(split_val3) + \" (3rd Split)\"             \n",
    "plt.plot([split_val1,split_val1],[0,40],c ='y', linestyle='dashed', label = line1_label)\n",
    "plt.plot([0,10],[split_val2,split_val2],c ='b', linestyle='dashed', label = line2_label)\n",
    "plt.plot([split_val3,split_val3],[0,40],c ='pink', linestyle='dashed', label = line3_label)\n",
    "\n",
    "#Displaying the plot\n",
    "plt.legend()\n",
    "plt.show()"
   ]
  },
  {
   "cell_type": "markdown",
   "metadata": {},
   "source": [
    "## Part 3: Making predictions\n",
    "\n",
    "Q10. Create a training/test split for your data. Assume the data is already randomized and select every 5th observation from the original dataset to be in your test data (i.e. when working in Pandas, your test dataframe should contain index 0, 5, 10, 15, ...) and all other observations in your training data. How many observations are in your training and test datasets, respectively? How does the target variable look across the two datasets?"
   ]
  },
  {
   "cell_type": "markdown",
   "metadata": {},
   "source": [
    "###### Response:\n",
    "\n",
    "*We get the following observations from our training and testing data:*\n",
    "\n",
    "1.) The training dataset has **404** observations.<br/>\n",
    "\n",
    "2.) The testing dataset has **102** observations.<br/>\n",
    "\n",
    "3.) In our training dataset, the target variable (highPriced) has **363** observations having **\"0\"** class and **41** observations having **\"1\"** class.<br/>\n",
    "\n",
    "4.) In our testing dataset, the target variable (highPriced) has **95** observations having **\"0\"** class and **7** observations having **\"1\"** class.<br/>\n",
    "\n",
    "5.) Both the training and testing datasets follows the same nature as the entire dataframe i.e. being class imblanced as the number of observations having target class as **\"0\"** is much greater than number of observations having target class as **\"1\"**.<br/>\n",
    "\n",
    "6.) We can see that only **~10%** of our output variable is high priced and all the other observations are not high priced for the training as well as the testing data."
   ]
  },
  {
   "cell_type": "code",
   "execution_count": 23,
   "metadata": {},
   "outputs": [
    {
     "name": "stdout",
     "output_type": "stream",
     "text": [
      "Number of observations in the training data is : 404\n",
      "\n",
      "Number of observations in the testing data is : 102\n",
      "\n",
      "Target variable(highPriced) values Distribution for Training Data:\n",
      "\n",
      "0    363\n",
      "1     41\n",
      "Name: highPriced, dtype: int64\n",
      "\n",
      "Target variable(highPriced) values Distribution for Testing Data:\n",
      "\n",
      "0    95\n",
      "1     7\n",
      "Name: highPriced, dtype: int64\n"
     ]
    }
   ],
   "source": [
    "#Creating the training and testing data\n",
    "training_data=boston_df[boston_df.index % 5 != 0]\n",
    "testing_data=boston_df[boston_df.index % 5 == 0]\n",
    "\n",
    "print(\"Number of observations in the training data is :\", len(training_data))\n",
    "print(\"\\nNumber of observations in the testing data is :\", len(testing_data))\n",
    "print(\"\\nTarget variable(highPriced) values Distribution for Training Data:\\n\")\n",
    "print(training_data.highPriced.value_counts())\n",
    "print(\"\\nTarget variable(highPriced) values Distribution for Testing Data:\\n\")\n",
    "print(testing_data.highPriced.value_counts())"
   ]
  },
  {
   "cell_type": "markdown",
   "metadata": {},
   "source": [
    "Q11: Create a baseline set of predictions. In classification tasks, when reaching a leaf node that is not pure, predictions are often made by randomly selecting from training observations in the corresponding node. Suppose you had a tree with zero splits across your training dataset (i.e. the entirety of your training dataset) and you made predictions for your test dataset. In other words, \"predict\" values for your test dataset by randomly sampling (with replacement) from the target variable across the entirety of your training dataset. How do your predictions fare in terms of accuracy and other metrics (Note: when comparing subsequent classifiers, use not only accuracy, but other metrics as well. Also, contextualize differences you may find.)"
   ]
  },
  {
   "cell_type": "markdown",
   "metadata": {},
   "source": [
    "###### Response: \n",
    "\n",
    "By looking at the below baseline predictions we can see that even though our accuracy is **78.43%** which is quite high, our precision**(0.06)** and recall**(0.14)** and F1**(0.08)** scores are very low. This means that there are a high number of false positives and false negatives predicted, even though the overall accuracy is good."
   ]
  },
  {
   "cell_type": "code",
   "execution_count": 24,
   "metadata": {},
   "outputs": [
    {
     "name": "stdout",
     "output_type": "stream",
     "text": [
      "Baseline predictions:\n",
      "\n",
      "Accuracy: 78.43 %\n",
      "Precision: 0.06\n",
      "Recall: 0.14\n",
      "F1 score: 0.08\n"
     ]
    }
   ],
   "source": [
    "random.seed(2)\n",
    "y_pred=random.choices(list(training_data['highPriced']), k=len(testing_data))\n",
    "\n",
    "print(\"Baseline predictions:\\n\")\n",
    "print(\"Accuracy:\", round(accuracy_score(testing_data['highPriced'], y_pred)*100,2),\"%\")\n",
    "print(\"Precision:\", round(precision_score(testing_data['highPriced'], y_pred),2))\n",
    "print(\"Recall:\", round(recall_score(testing_data['highPriced'], y_pred),2))\n",
    "print(\"F1 score:\", round(f1_score(testing_data['highPriced'], y_pred),2))"
   ]
  },
  {
   "cell_type": "markdown",
   "metadata": {},
   "source": [
    "Q12: Now, use a 2-level decision tree to make predictions. Re-train a 2-level decision tree (i.e. a tree with 4 leaf nodes) using the training dataset with only the RM and LSTAT variables as inputs. How does it compare to the decision tree you built using the entirety of the data? Again, at each leaf node, randomly sample the output values from the training observations to make predictions for the test set. How do the predictions from this classifier compare to the baseline you created in question 11?"
   ]
  },
  {
   "cell_type": "markdown",
   "metadata": {},
   "source": [
    "###### Response: \n",
    "\n",
    "*We can see the following obervations about the new Decision tree:*\n",
    "\n",
    "1.) The new decision tree of the training data is similar in nature as compared to the original decision tree.<br/>\n",
    "\n",
    "2.) The root split occurs using the **RM** variable having a optimal value(threshold) of **7.127**.<br/>\n",
    "\n",
    "3.) The left tree consists of all values less than the root node value and the left split occurs for the **LSTAT** variable having a optimal value of **5.115**. <br/>\n",
    "\n",
    "4.) The right tree consists of all values greater than or equal to the root node value and the right split occurs for the **RM** variable having a optimal value of **7.437**.<br/>\n",
    "\n",
    "5.) The decision nodes for each Leaf Node arw also same as that of the original decision tree."
   ]
  },
  {
   "cell_type": "code",
   "execution_count": 25,
   "metadata": {},
   "outputs": [],
   "source": [
    "#Getting input and output variables for training and testing data\n",
    "X_train = training_data[['RM','LSTAT']]\n",
    "y_train = training_data[['highPriced']]\n",
    "X_test = testing_data[['RM','LSTAT']]\n",
    "y_test = testing_data['highPriced']"
   ]
  },
  {
   "cell_type": "markdown",
   "metadata": {},
   "source": [
    "###### Modeling(training)  the training data"
   ]
  },
  {
   "cell_type": "code",
   "execution_count": 26,
   "metadata": {},
   "outputs": [],
   "source": [
    "#Getting the decision tree for training data\n",
    "decision_tree(X_train,y_train,2)"
   ]
  },
  {
   "cell_type": "code",
   "execution_count": 27,
   "metadata": {},
   "outputs": [
    {
     "data": {
      "text/html": [
       "<div>\n",
       "<style scoped>\n",
       "    .dataframe tbody tr th:only-of-type {\n",
       "        vertical-align: middle;\n",
       "    }\n",
       "\n",
       "    .dataframe tbody tr th {\n",
       "        vertical-align: top;\n",
       "    }\n",
       "\n",
       "    .dataframe thead th {\n",
       "        text-align: right;\n",
       "    }\n",
       "</style>\n",
       "<table border=\"1\" class=\"dataframe\">\n",
       "  <thead>\n",
       "    <tr style=\"text-align: right;\">\n",
       "      <th></th>\n",
       "      <th>level</th>\n",
       "      <th>col</th>\n",
       "      <th>threshold</th>\n",
       "    </tr>\n",
       "  </thead>\n",
       "  <tbody>\n",
       "    <tr>\n",
       "      <td>0</td>\n",
       "      <td>1</td>\n",
       "      <td>RM</td>\n",
       "      <td>7.127</td>\n",
       "    </tr>\n",
       "    <tr>\n",
       "      <td>1</td>\n",
       "      <td>2</td>\n",
       "      <td>LSTAT</td>\n",
       "      <td>5.115</td>\n",
       "    </tr>\n",
       "    <tr>\n",
       "      <td>2</td>\n",
       "      <td>2</td>\n",
       "      <td>RM</td>\n",
       "      <td>7.437</td>\n",
       "    </tr>\n",
       "  </tbody>\n",
       "</table>\n",
       "</div>"
      ],
      "text/plain": [
       "  level    col  threshold\n",
       "0     1     RM      7.127\n",
       "1     2  LSTAT      5.115\n",
       "2     2     RM      7.437"
      ]
     },
     "execution_count": 27,
     "metadata": {},
     "output_type": "execute_result"
    }
   ],
   "source": [
    "dec_tree_df"
   ]
  },
  {
   "cell_type": "code",
   "execution_count": 28,
   "metadata": {},
   "outputs": [
    {
     "data": {
      "text/html": [
       "<div>\n",
       "<style scoped>\n",
       "    .dataframe tbody tr th:only-of-type {\n",
       "        vertical-align: middle;\n",
       "    }\n",
       "\n",
       "    .dataframe tbody tr th {\n",
       "        vertical-align: top;\n",
       "    }\n",
       "\n",
       "    .dataframe thead th {\n",
       "        text-align: right;\n",
       "    }\n",
       "</style>\n",
       "<table border=\"1\" class=\"dataframe\">\n",
       "  <thead>\n",
       "    <tr style=\"text-align: right;\">\n",
       "      <th></th>\n",
       "      <th>0</th>\n",
       "      <th>1</th>\n",
       "      <th>Leaf_Node</th>\n",
       "      <th>Decision_Node</th>\n",
       "    </tr>\n",
       "  </thead>\n",
       "  <tbody>\n",
       "    <tr>\n",
       "      <td>highPriced</td>\n",
       "      <td>21</td>\n",
       "      <td>6</td>\n",
       "      <td>1</td>\n",
       "      <td>0</td>\n",
       "    </tr>\n",
       "    <tr>\n",
       "      <td>highPriced</td>\n",
       "      <td>328</td>\n",
       "      <td>3</td>\n",
       "      <td>2</td>\n",
       "      <td>0</td>\n",
       "    </tr>\n",
       "    <tr>\n",
       "      <td>highPriced</td>\n",
       "      <td>13</td>\n",
       "      <td>7</td>\n",
       "      <td>3</td>\n",
       "      <td>0</td>\n",
       "    </tr>\n",
       "    <tr>\n",
       "      <td>highPriced</td>\n",
       "      <td>1</td>\n",
       "      <td>25</td>\n",
       "      <td>4</td>\n",
       "      <td>1</td>\n",
       "    </tr>\n",
       "  </tbody>\n",
       "</table>\n",
       "</div>"
      ],
      "text/plain": [
       "              0   1  Leaf_Node  Decision_Node\n",
       "highPriced   21   6          1              0\n",
       "highPriced  328   3          2              0\n",
       "highPriced   13   7          3              0\n",
       "highPriced    1  25          4              1"
      ]
     },
     "execution_count": 28,
     "metadata": {},
     "output_type": "execute_result"
    }
   ],
   "source": [
    "dec_tree_rules_df"
   ]
  },
  {
   "cell_type": "markdown",
   "metadata": {},
   "source": [
    "###### Function for predicting the testing data"
   ]
  },
  {
   "cell_type": "code",
   "execution_count": 29,
   "metadata": {},
   "outputs": [],
   "source": [
    "#Function to iterate through every row of the test data and outputs the prediction as per the decision tree rules.\n",
    "def predict_dec_tree(test_data,decision_tree_df, rules_df):\n",
    "    \n",
    "    #List to store the predictions\n",
    "    predictions = []\n",
    "    test_data_df = test_data.reset_index()\n",
    "    \n",
    "    #Iterating over each row of testing data\n",
    "    for i in range(len(test_data_df)) : \n",
    "        if test_data_df.loc[i, decision_tree_df.iloc[0]['col']] < decision_tree_df.iloc[0]['threshold']:\n",
    "            if test_data_df.loc[i, decision_tree_df.iloc[1]['col']] < decision_tree_df.iloc[1]['threshold']:\n",
    "                predictions.append(rules_df.iloc[0]['Decision_Node'])\n",
    "            else:\n",
    "                predictions.append(rules_df.iloc[1]['Decision_Node'])         \n",
    "        else:\n",
    "            if test_data_df.loc[i, decision_tree_df.iloc[2]['col']] < decision_tree_df.iloc[2]['threshold']:\n",
    "                predictions.append(rules_df.iloc[2]['Decision_Node'])\n",
    "            else:\n",
    "                predictions.append(rules_df.iloc[3]['Decision_Node'])\n",
    "    \n",
    "    return predictions"
   ]
  },
  {
   "cell_type": "markdown",
   "metadata": {},
   "source": [
    "###### Predicting the testing data"
   ]
  },
  {
   "cell_type": "markdown",
   "metadata": {},
   "source": [
    "###### Response:\n",
    "\n",
    "*We can see the following obervations about the predictions of this classifier:*\n",
    "\n",
    "1.) This classifier has a accuracy of **97.06%** which is much better than our baseline prediction.<br/>\n",
    "\n",
    "2.) The model has a perfect precision score having score as **1** which means that there are no false positives (i.e. no high priced observations are classified as high priced).<br/>\n",
    "\n",
    "3.) The model has an average recall score of **0.57** meaning that some high priced observations are classified as not high priced.<br/>\n",
    "\n",
    "4.) The model has decent F1 score of **0.73** which is much higher than that of our baseline model.<br/>\n",
    "\n",
    "5.) Overall, this classifier predictions are much better in terms of accuracy as well as other metrics as compared to the baseline predictions.<br/>"
   ]
  },
  {
   "cell_type": "code",
   "execution_count": 30,
   "metadata": {},
   "outputs": [],
   "source": [
    "#Predicting the testing data\n",
    "y_pred= predict_dec_tree(X_test,dec_tree_df, dec_tree_rules_df)\n",
    "y_hat = np.where(y_pred == y_test , 1,0)"
   ]
  },
  {
   "cell_type": "code",
   "execution_count": 31,
   "metadata": {},
   "outputs": [
    {
     "name": "stdout",
     "output_type": "stream",
     "text": [
      "Predictions:\n",
      "\n",
      "Accuracy: 97.06 %\n",
      "Precision: 1.0\n",
      "Recall: 0.57\n",
      "F1 score: 0.73\n"
     ]
    }
   ],
   "source": [
    "print(\"Predictions:\\n\")\n",
    "print(\"Accuracy:\", round(accuracy_score(y_test, y_pred)*100,2),\"%\")\n",
    "print(\"Precision:\", round(precision_score(y_test, y_pred),2))\n",
    "print(\"Recall:\", round(recall_score(y_test, y_pred),2))\n",
    "print(\"F1 score:\", round(f1_score(y_test, y_pred),2))"
   ]
  },
  {
   "cell_type": "markdown",
   "metadata": {},
   "source": [
    "## Part 4: Comparing to out-of-the-box classifiers\n",
    "\n",
    "Q13: Use sklearn's DecisionTreeClassifier to recreate the decision tree that is trained on the training data. There may be slight differences in the predictions but show that 1)the splits are at the same locations as the tree you built and 2) the probabilities for the leaf nodes are also the same. How do the predictions from this classifier compare to both your decision tree as well as the baseline you created in question 11?"
   ]
  },
  {
   "cell_type": "markdown",
   "metadata": {},
   "source": [
    "###### Response:\n",
    "\n",
    "*We can see the following observations from the sklearn's DecisionTreeClassifier:* \n",
    "\n",
    "\n",
    "1.) The new decision tree has splits at the same location as that of the decision tree we built. The root split occurs using the **RM** variable having a optimal value(threshold) of **7.127**.The left tree consists of all values less than the root node value and the left split occurs for the **LSTAT** variable having a optimal value of **5.115**.The right tree consists of all values greater than or equal to the root node value and the right split occurs for the **RM** variable having a optimal value of **7.437**.<br/>\n",
    "\n",
    "2.) The new decision tree has the same probabilities for the leaf nodes as that of the decision tree we built. Leaf Node 1 *(left most)* has the **26** highPriced observations and **1** not highPriced and has output class as **'0'**. Leaf Node 2 has the **328** highPriced observations and **3** not highPriced and has output class as **'0'**. Leaf Node 3 has the **13** highPriced observations and **7** not highPriced and has output class as **'0'**. Leaf Node 4 has the **1** highPriced observations and **25** not highPriced and has output class as **'1'**.<br/>\n",
    "\n",
    "3.)sklearn's DecisionTreeClassifier has a accuracy of **97.06%** which is much better than our baseline prediction.The model has a perfect precision score having score as **1** which means that there are no false positives (i.e. no high priced observations are classified as high priced).The model has an average recall score of **0.57** meaning that some high priced observations are classified as not high priced. The model has decent F1 score of **0.73**.<br/>\n",
    "\n",
    "4.) The new decision has the same predictions as that of the decision tree we built. All the metrics are exactly same as that of our decision tree. Also, the classifier predictions are much better in terms of accuracy as well as other metrics as compared to the baseline predictions.<br/>"
   ]
  },
  {
   "cell_type": "code",
   "execution_count": 32,
   "metadata": {},
   "outputs": [
    {
     "data": {
      "text/plain": [
       "[Text(223.2, 362.4, 'RM <= 7.127\\nentropy = 0.474\\nsamples = 404\\nvalue = [363, 41]\\nclass = 0'),\n",
       " Text(111.6, 217.44, 'LSTAT <= 5.115\\nentropy = 0.169\\nsamples = 358\\nvalue = [349, 9]\\nclass = 0'),\n",
       " Text(55.8, 72.47999999999996, 'entropy = 0.764\\nsamples = 27\\nvalue = [21, 6]\\nclass = 0'),\n",
       " Text(167.39999999999998, 72.47999999999996, 'entropy = 0.075\\nsamples = 331\\nvalue = [328, 3]\\nclass = 0'),\n",
       " Text(334.79999999999995, 217.44, 'RM <= 7.437\\nentropy = 0.887\\nsamples = 46\\nvalue = [14, 32]\\nclass = 1'),\n",
       " Text(279.0, 72.47999999999996, 'entropy = 0.934\\nsamples = 20\\nvalue = [13, 7]\\nclass = 0'),\n",
       " Text(390.59999999999997, 72.47999999999996, 'entropy = 0.235\\nsamples = 26\\nvalue = [1, 25]\\nclass = 1')]"
      ]
     },
     "execution_count": 32,
     "metadata": {},
     "output_type": "execute_result"
    },
    {
     "data": {
      "image/png": "[encoded data removed]",
      "text/plain": [
       "<Figure size 576x576 with 1 Axes>"
      ]
     },
     "metadata": {
      "needs_background": "light"
     },
     "output_type": "display_data"
    }
   ],
   "source": [
    "clf = tree.DecisionTreeClassifier(criterion=\"entropy\", max_depth=2)\n",
    "dec_tree_mod = clf.fit(X_train,y_train)\n",
    "plt.figure(figsize=(8,8))\n",
    "tree.plot_tree(dec_tree_mod, feature_names=X_train.columns, class_names=[\"0\",\"1\"])"
   ]
  },
  {
   "cell_type": "code",
   "execution_count": 33,
   "metadata": {},
   "outputs": [
    {
     "name": "stdout",
     "output_type": "stream",
     "text": [
      "Predictions:\n",
      "\n",
      "Accuracy: 97.06 %\n",
      "Precision: 1.0\n",
      "Recall: 0.57\n",
      "F1 score: 0.73\n"
     ]
    }
   ],
   "source": [
    "y_pred_dec_tree = dec_tree_mod.predict(X_test)\n",
    "print(\"Predictions:\\n\")\n",
    "print(\"Accuracy:\", round(accuracy_score(y_test, y_pred_dec_tree)*100,2),\"%\")\n",
    "print(\"Precision:\", round(precision_score(y_test, y_pred_dec_tree),2))\n",
    "print(\"Recall:\", round(recall_score(y_test, y_pred_dec_tree),2))\n",
    "print(\"F1 score:\", round(f1_score(y_test, y_pred_dec_tree),2))"
   ]
  },
  {
   "cell_type": "markdown",
   "metadata": {},
   "source": [
    "Q14: Use sklearn's BaggingClassifier to create a bagging classifier whose base is a DecisionTreeClassifier with 2 levels and entropy as the split criterion. Train it on your training dataset and make predictions for your test dataset. How does this bagging classifier perform compared to the decision tree you created in question 13?"
   ]
  },
  {
   "cell_type": "markdown",
   "metadata": {},
   "source": [
    "###### Response:\n",
    "\n",
    "*We can see the following observations from the sklearn's BaggingClassifier:* \n",
    "\n",
    "1.) Our bagging classifier has a accuracy of **97.06%**.The model has a perfect precision score having score as **1** which means that there are no false positives (i.e. no high priced observations are classified as high priced).The model has an average recall score of **0.57** meaning that some high priced observations are classified as not high priced. The model has decent F1 score of **0.73**.<br/>\n",
    "\n",
    "2.) The new decision has the same predictions as that of the decision tree we built and the decision tree build using the sklearn's DecisionTreeClassifier. All the metrics are exactly same as that of our built decision tree and that of sklearn's DecisionTreeClassifier. <br/>"
   ]
  },
  {
   "cell_type": "code",
   "execution_count": 34,
   "metadata": {},
   "outputs": [
    {
     "name": "stdout",
     "output_type": "stream",
     "text": [
      "Predictions:\n",
      "\n",
      "Accuracy: 97.06 %\n",
      "Precision: 1.0\n",
      "Recall: 0.57\n",
      "F1 score: 0.73\n"
     ]
    }
   ],
   "source": [
    "bag_clf = BaggingClassifier(base_estimator=tree.DecisionTreeClassifier(criterion=\"entropy\", max_depth=2))\n",
    "bag_mod = bag_clf.fit(X_train,y_train)\n",
    "y_pred_bag = bag_mod.predict(X_test)\n",
    "print(\"Predictions:\\n\")\n",
    "print(\"Accuracy:\", round(accuracy_score(y_test, y_pred_bag)*100,2),\"%\")\n",
    "print(\"Precision:\", round(precision_score(y_test, y_pred_bag),2))\n",
    "print(\"Recall:\", round(recall_score(y_test, y_pred_bag),2))\n",
    "print(\"F1 score:\", round(f1_score(y_test, y_pred_bag),2))"
   ]
  },
  {
   "cell_type": "markdown",
   "metadata": {},
   "source": [
    "Q15: Use sklearn's RandomForestClassifier to create a random forest classifier whose base is a decision tree with 2 levels and entropy as the split criterion. Train it on your training dataset and make predictions for your test dataset. How does this random forest classifier perform compared to the classifiers you created in questions 13 and 14?"
   ]
  },
  {
   "cell_type": "markdown",
   "metadata": {},
   "source": [
    "###### Response:\n",
    "\n",
    "*We can see the following observations from the sklearn's RandomForestClassifier:* \n",
    "\n",
    "1.) Our randomForest classifier has a accuracy of **97.06%**.The model has a perfect precision score having score as **1** which means that there are no false positives (i.e. no high priced observations are classified as high priced).The model has an average recall score of **0.57** meaning that some high priced observations are classified as not high priced. The model has decent F1 score of **0.73**.<br/>\n",
    "\n",
    "2.) The new decision has the same predictions as that of the decision tree we built and the decision tree build using the sklearn's DecisionTreeClassifier and BaggingClassifier. All the metrics are exactly same as that of our built decision tree and that of sklearn's DecisionTreeClassifier and BaggingClassifier. <br/>"
   ]
  },
  {
   "cell_type": "code",
   "execution_count": 35,
   "metadata": {},
   "outputs": [
    {
     "name": "stdout",
     "output_type": "stream",
     "text": [
      "Predictions:\n",
      "\n",
      "Accuracy: 97.06 %\n",
      "Precision: 1.0\n",
      "Recall: 0.57\n",
      "F1 score: 0.73\n"
     ]
    }
   ],
   "source": [
    "rand_forest_clf =RandomForestClassifier(max_depth=2, criterion='entropy', random_state =1)\n",
    "rand_forest_mod = rand_forest_clf.fit(X_train,y_train)\n",
    "y_pred_rand_forest = rand_forest_mod.predict(X_test)\n",
    "print(\"Predictions:\\n\")\n",
    "print(\"Accuracy:\", round(accuracy_score(y_test, y_pred_rand_forest)*100,2),\"%\")\n",
    "print(\"Precision:\", round(precision_score(y_test, y_pred_rand_forest),2))\n",
    "print(\"Recall:\", round(recall_score(y_test, y_pred_rand_forest),2))\n",
    "print(\"F1 score:\", round(f1_score(y_test, y_pred_rand_forest),2))"
   ]
  }
 ],
 "metadata": {
  "kernelspec": {
   "display_name": "Python 3",
   "language": "python",
   "name": "python3"
  },
  "language_info": {
   "codemirror_mode": {
    "name": "ipython",
    "version": 3
   },
   "file_extension": ".py",
   "mimetype": "text/x-python",
   "name": "python",
   "nbconvert_exporter": "python",
   "pygments_lexer": "ipython3",
   "version": "3.7.4"
  }
 },
 "nbformat": 4,
 "nbformat_minor": 2
}
